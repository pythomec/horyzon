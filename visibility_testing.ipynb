{
 "cells": [
  {
   "cell_type": "code",
   "execution_count": null,
   "metadata": {},
   "outputs": [],
   "source": [
    "%pylab inline"
   ]
  },
  {
   "cell_type": "code",
   "execution_count": null,
   "metadata": {},
   "outputs": [],
   "source": [
    "%load_ext autoreload\n",
    "%autoreload 2"
   ]
  },
  {
   "cell_type": "code",
   "execution_count": null,
   "metadata": {},
   "outputs": [],
   "source": [
    "import visibility as vis"
   ]
  },
  {
   "cell_type": "markdown",
   "metadata": {},
   "source": [
    "## Generate some 1D data"
   ]
  },
  {
   "cell_type": "code",
   "execution_count": null,
   "metadata": {},
   "outputs": [],
   "source": [
    "x_line = np.arange(0, 8*np.pi, 0.1)\n",
    "y_line = 1 + np.sin(x_line) * np.sin(0.12*x_line)\n",
    "# plot(x_line, y_line)"
   ]
  },
  {
   "cell_type": "markdown",
   "metadata": {},
   "source": [
    "### Find visible part in a single pass through"
   ]
  },
  {
   "cell_type": "code",
   "execution_count": null,
   "metadata": {},
   "outputs": [],
   "source": [
    "curr_max = 0\n",
    "visible_part = []\n",
    "for i, y in enumerate(y_line):\n",
    "    if y > curr_max:\n",
    "#         print(i, y)\n",
    "        curr_max = y\n",
    "        visible_part.append(i)\n",
    "visible_part\n",
    "figure()\n",
    "plot(x_line, y_line)\n",
    "plot(x_line[visible_part], y_line[visible_part], 'r+')"
   ]
  },
  {
   "cell_type": "markdown",
   "metadata": {},
   "source": [
    "## Generate some data in polar grid"
   ]
  },
  {
   "cell_type": "code",
   "execution_count": null,
   "metadata": {},
   "outputs": [],
   "source": [
    "d_r = 1\n",
    "d_alpha = 30\n",
    "r_surf = np.arange(0, 10, d_r)\n",
    "alpha_surf = np.arange(0, 360, d_alpha)\n",
    "xx1, xx2 = np.meshgrid(alpha_surf, r_surf)\n",
    "\n",
    "y_surf = 1 + np.sin(xx1) +  np.sin(2*xx2) * np.sin(0.3*xx1+xx2)"
   ]
  },
  {
   "cell_type": "markdown",
   "metadata": {},
   "source": [
    "### Compose the visible mask in a single iteration along radius\n",
    "\n",
    "At the same time, save also the indices of maximum radius visible in the given angle (max_i_r)"
   ]
  },
  {
   "cell_type": "code",
   "execution_count": null,
   "metadata": {},
   "outputs": [],
   "source": [
    "visible_mask, max_i_r = vis.find_visible_area(y_surf)\n",
    "figure(figsize=(10,6))\n",
    "plt.pcolormesh(xx1, xx2, y_surf, shading='flat')\n",
    "# plt.scatter(xx1+0.5*d_alpha, xx2+0.5*d_r, c=visible_mask, cmap='jet')\n",
    "plt.scatter(xx1[visible_mask]+0.5*d_alpha, xx2[visible_mask]+0.5*d_r, c='r')\n",
    "plt.plot(alpha_surf+0.5*d_alpha, r_surf[max_i_r]+0.5*d_r, '--r')"
   ]
  },
  {
   "cell_type": "code",
   "execution_count": null,
   "metadata": {
    "scrolled": false
   },
   "outputs": [],
   "source": [
    "figure(figsize=(12,6))\n",
    "for i_r in range(len(r_surf)):\n",
    "    plot(alpha_surf, y_surf[i_r, :], label=r_surf[i_r])\n",
    "plt.legend()\n",
    "plot(xx1[visible_mask], y_surf[visible_mask], 'ok')\n",
    "# for i_r, vis_mask in visible_part:\n",
    "#     plot(alpha_surf[vis_mask], y_surf[i_r, vis_mask], 'ok')\n",
    "plot(alpha_surf, y_surf[max_i_r, range(len(alpha_surf))], 'r--')"
   ]
  },
  {
   "cell_type": "code",
   "execution_count": null,
   "metadata": {},
   "outputs": [],
   "source": [
    "def image_plot_grid(x, y, z, regular=True, indexing='xy'):\n",
    "    dx = np.mean(np.diff(x))\n",
    "    dy = np.mean(np.diff(y))\n",
    "    if regular:\n",
    "#         if indexing == 'xy':\n",
    "#             origin='bottom'\n",
    "#         elif indexing == 'ij':\n",
    "#             origin=\n",
    "        print((min(x)-dx/2, max(x)+dx/2, min(y)-dy/2, max(y)+dy/2))\n",
    "        return plt.imshow(z, origin='bottom', extent = (min(x)-dx/2, max(x)+dx/2, min(y)-dy/2, max(y)+dy/2))\n",
    "    else:\n",
    "        raise(NotImplementedError)"
   ]
  },
  {
   "cell_type": "markdown",
   "metadata": {},
   "source": [
    "## Generate cartesian 'altitude' data"
   ]
  },
  {
   "cell_type": "code",
   "execution_count": null,
   "metadata": {},
   "outputs": [],
   "source": [
    "# Generate cartesian data\n",
    "dx = 0.6\n",
    "dy = 0.3\n",
    "x = np.arange(0, 40, dx)\n",
    "y = np.arange(0, 30, dy)\n",
    "xx, yy = np.meshgrid(x, y)#, indexing='ij')\n",
    "Z_cart = 1 + np.sin(xx) +  np.sin(2*yy) * np.sin(0.3*xx+yy)\n",
    "\n",
    "# Select the observer location\n",
    "obs_x = 8.5\n",
    "obs_y = 15."
   ]
  },
  {
   "cell_type": "markdown",
   "metadata": {},
   "source": [
    "## Interpolate the 'altitude' data from cartesian to polar grid and calculate visibility"
   ]
  },
  {
   "cell_type": "code",
   "execution_count": null,
   "metadata": {},
   "outputs": [],
   "source": [
    "r_polar, alpha_polar, x_polar, y_polar = vis.generate_polar_grid(obs_x, obs_y, x, y, dx=dx, dy=dy, size='standard')\n",
    "Z_polar = vis.interpolate_from_grid_to_any_points(x, y, np.transpose(Z_cart), x_polar, y_polar)\n",
    "mask_polar, max_i_r = vis.find_visible_area(Z_polar)\n",
    "\n",
    "horizon_x = x_polar[max_i_r, range(len(alpha_polar))]\n",
    "horizon_y = y_polar[max_i_r, range(len(alpha_polar))]\n",
    "horizon_alpha = alpha_polar\n",
    "horizon_r = r_polar[max_i_r]\n",
    "horizon_Z = Z_polar[max_i_r, range(len(alpha_polar))]"
   ]
  },
  {
   "cell_type": "code",
   "execution_count": null,
   "metadata": {},
   "outputs": [],
   "source": [
    "figure(figsize=(10,10))\n",
    "# plt.pcolormesh(xx, yy, Z_cart, shading='flat')\n",
    "image_plot_grid(x, y, Z_cart)\n",
    "plt.plot(obs_x, obs_y, '+')\n",
    "plt.scatter(x_polar, y_polar, s=40, c='k')\n",
    "plt.scatter(x_polar[mask_polar], y_polar[mask_polar], c='r', s=60)\n",
    "plt.plot(horizon_x, horizon_y, '--r')\n",
    "plt.scatter(x_polar, y_polar, s=30, c=Z_polar)\n",
    "plt.gca().set_aspect('equal')"
   ]
  },
  {
   "cell_type": "code",
   "execution_count": null,
   "metadata": {},
   "outputs": [],
   "source": [
    "%pylab qt"
   ]
  },
  {
   "cell_type": "code",
   "execution_count": null,
   "metadata": {},
   "outputs": [],
   "source": [
    "alpha_mesh, r_mesh = np.meshgrid(alpha_polar, r_polar)\n",
    "figure(figsize=(10,6))\n",
    "image_plot_grid(alpha_polar, r_polar, Z_polar)\n",
    "# plt.pcolormesh(alpha_mesh, r_mesh, Z_polar, shading='flat')\n",
    "# plt.scatter(alpha_mesh[mask_polar]+0.5*d_alpha, r_mesh[mask_polar]+0.5*d_r, c='r')\n",
    "# plt.plot(horizon_alpha+0.5*d_alpha, horizon_r+0.5*d_r, '--r')\n",
    "plt.scatter(alpha_mesh[mask_polar], r_mesh[mask_polar], c='r')\n",
    "plt.plot(horizon_alpha, horizon_r, '--r')"
   ]
  },
  {
   "cell_type": "code",
   "execution_count": null,
   "metadata": {
    "scrolled": false
   },
   "outputs": [],
   "source": [
    "figure(figsize=(12,6))\n",
    "for i_r, r_r in enumerate(r_polar):\n",
    "    plot(alpha_polar, Z_polar[i_r, :], label=r_r)\n",
    "plt.legend()\n",
    "plot(alpha_mesh[mask_polar], Z_polar[mask_polar], 'ok')\n",
    "plot(horizon_alpha, horizon_Z, 'r--')"
   ]
  },
  {
   "cell_type": "markdown",
   "metadata": {},
   "source": [
    "## Interpolate the mask in polar grid back to cartesian (broken)"
   ]
  },
  {
   "cell_type": "code",
   "execution_count": null,
   "metadata": {},
   "outputs": [],
   "source": [
    "mask_cart = np.zeros_like(Z_cart, dtype=int)\n",
    "count_cart = np.zeros_like(Z_cart, dtype=int)\n",
    "polar_cart_i = np.round(x_polar.reshape(-1) - x[0] / dx).astype(int)\n",
    "polar_cart_j = np.round(y_polar.reshape(-1) - y[0] / dy).astype(int)\n",
    "for i, j, mask_ij in zip(polar_cart_i, polar_cart_j, mask_polar.reshape(-1)):\n",
    "    if i >= 0 and i < len(x) and j >= 0 and j < len(y):\n",
    "        count_cart[j,i] += 1\n",
    "        mask_cart[j,i] += mask_ij\n",
    "mask_cart = (mask_cart / count_cart) > 0.1\n",
    "mask_cart\n",
    "Z_cart[~mask_cart] = -2\n",
    "\n",
    "figure(figsize=(10,10))\n",
    "# plt.pcolormesh(xx, yy, Z_cart, shading='flat')\n",
    "image_plot_grid(x, y, Z_cart)\n",
    "plt.plot(obs_x, obs_y, '+')\n",
    "# plt.scatter(x_polar, y_polar, s=40, c='k')\n",
    "plt.scatter(x_polar[mask_polar], y_polar[mask_polar], c='r', s=60)\n",
    "plt.plot(x_polar[max_i_r, range(len(alpha_polar))], y_polar[max_i_r, range(len(alpha_polar))], '--r')\n",
    "# plt.scatter(x_polar, y_polar, s=30, c=Z_polar)\n",
    "plt.gca().set_aspect('equal')"
   ]
  },
  {
   "cell_type": "code",
   "execution_count": null,
   "metadata": {},
   "outputs": [],
   "source": []
  }
 ],
 "metadata": {
  "kernelspec": {
   "display_name": "Python 3",
   "language": "python",
   "name": "python3"
  },
  "language_info": {
   "codemirror_mode": {
    "name": "ipython",
    "version": 3
   },
   "file_extension": ".py",
   "mimetype": "text/x-python",
   "name": "python",
   "nbconvert_exporter": "python",
   "pygments_lexer": "ipython3",
   "version": "3.7.3"
  }
 },
 "nbformat": 4,
 "nbformat_minor": 2
}
