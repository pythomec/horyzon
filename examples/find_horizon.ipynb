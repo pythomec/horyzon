{
 "cells": [
  {
   "cell_type": "code",
   "execution_count": null,
   "metadata": {
    "collapsed": true
   },
   "outputs": [],
   "source": [
    "%matplotlib notebook\n",
    "%load_ext autoreload\n",
    "%autoreload 2"
   ]
  },
  {
   "cell_type": "code",
   "execution_count": null,
   "metadata": {
    "collapsed": true
   },
   "outputs": [],
   "source": [
    "import sys\n",
    "sys.path.append('c:\\pytomac')"
   ]
  },
  {
   "cell_type": "code",
   "execution_count": null,
   "metadata": {},
   "outputs": [],
   "source": [
    "import horyzon.visibility as vis\n",
    "from horyzon.visibility_angle import vis_ang_xr\n",
    "from horyzon.data import load_grt\n",
    "import pylab as pl\n",
    "import numpy as np"
   ]
  },
  {
   "cell_type": "code",
   "execution_count": null,
   "metadata": {
    "collapsed": true
   },
   "outputs": [],
   "source": [
    "grt_fname = 'c:/datasets/GMRTv3.6/CR_SR.grd'"
   ]
  },
  {
   "cell_type": "code",
   "execution_count": null,
   "metadata": {
    "collapsed": true
   },
   "outputs": [],
   "source": [
    "d = load_grt(grt_fname)"
   ]
  },
  {
   "cell_type": "code",
   "execution_count": null,
   "metadata": {
    "collapsed": true
   },
   "outputs": [],
   "source": [
    "dd = d.sel(lon=slice(19,21),lat=slice(48.5, 49.5))"
   ]
  },
  {
   "cell_type": "code",
   "execution_count": null,
   "metadata": {},
   "outputs": [],
   "source": [
    "%matplotlib notebook\n",
    "pl.figure()\n",
    "dd.plot()\n",
    "pl.gca().set_aspect('equal')"
   ]
  },
  {
   "cell_type": "code",
   "execution_count": null,
   "metadata": {},
   "outputs": [],
   "source": [
    "lon = 20\n",
    "lat = 49\n",
    "ang = vis_ang_xr(dd, (lat, lon))"
   ]
  },
  {
   "cell_type": "code",
   "execution_count": null,
   "metadata": {},
   "outputs": [],
   "source": [
    "pl.figure()\n",
    "ang.plot()"
   ]
  },
  {
   "cell_type": "code",
   "execution_count": null,
   "metadata": {},
   "outputs": [],
   "source": [
    "r_polar, alpha_polar, x_polar, y_polar = vis.generate_polar_grid(lon, lat, ang.lon.values, ang.lat.values)\n",
    "Z_polar = vis.interpolate_from_grid_to_any_points(ang.lon, ang.lat, ang.values.T, x_polar, y_polar)\n",
    "mask_polar, max_i_r = vis.find_visible_area(Z_polar)"
   ]
  },
  {
   "cell_type": "code",
   "execution_count": null,
   "metadata": {
    "collapsed": true
   },
   "outputs": [],
   "source": [
    "horizon_x = x_polar[max_i_r, range(len(alpha_polar))]\n",
    "horizon_y = y_polar[max_i_r, range(len(alpha_polar))]\n",
    "horizon_alpha = alpha_polar\n",
    "horizon_r = r_polar[max_i_r]\n",
    "horizon_Z = Z_polar[max_i_r, range(len(alpha_polar))]"
   ]
  },
  {
   "cell_type": "code",
   "execution_count": null,
   "metadata": {},
   "outputs": [],
   "source": [
    "pl.figure(figsize=(10,10))\n",
    "# plt.pcolormesh(xx, yy, Z_cart, shading='flat')\n",
    "#image_plot_grid(x, y, Z_cart)\n",
    "dd.plot()\n",
    "obs_x, obs_y = lon, lat\n",
    "pl.plot(obs_x, obs_y, '+')\n",
    "#pl.scatter(x_polar, y_polar, s=40, c='k')\n",
    "#pl.scatter(x_polar[mask_polar], y_polar[mask_polar], c='r', s=60)\n",
    "pl.plot(horizon_x, horizon_y, '--r')\n",
    "#pl.scatter(x_polar, y_polar, s=30, c=Z_polar)\n",
    "pl.gca().set_aspect('equal')"
   ]
  },
  {
   "cell_type": "code",
   "execution_count": null,
   "metadata": {},
   "outputs": [],
   "source": [
    "alpha_mesh, r_mesh = np.meshgrid(alpha_polar, r_polar)\n",
    "\n",
    "pl.figure(figsize=(12,6))\n",
    "for i_r, r_r in enumerate(r_polar):\n",
    "    pl.plot(alpha_polar, Z_polar[i_r, :], label=r_r)\n",
    "pl.legend()\n",
    "pl.plot(alpha_mesh[mask_polar], Z_polar[mask_polar], 'ok')\n",
    "pl.plot(horizon_alpha, horizon_Z, 'r--')"
   ]
  },
  {
   "cell_type": "code",
   "execution_count": null,
   "metadata": {
    "collapsed": true
   },
   "outputs": [],
   "source": []
  }
 ],
 "metadata": {
  "kernelspec": {
   "display_name": "Python 3",
   "language": "python",
   "name": "python3"
  },
  "language_info": {
   "codemirror_mode": {
    "name": "ipython",
    "version": 3
   },
   "file_extension": ".py",
   "mimetype": "text/x-python",
   "name": "python",
   "nbconvert_exporter": "python",
   "pygments_lexer": "ipython3",
   "version": "3.6.2"
  }
 },
 "nbformat": 4,
 "nbformat_minor": 2
}
